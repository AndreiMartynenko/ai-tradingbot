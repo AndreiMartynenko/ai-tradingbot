{
 "cells": [
  {
   "cell_type": "code",
   "execution_count": 4,
   "id": "94430d88-d098-42e3-bead-57a3c6b175a7",
   "metadata": {},
   "outputs": [
    {
     "name": "stdout",
     "output_type": "stream",
     "text": [
      "Index(['Price', 'Open', 'High', 'Low', 'Vol.', 'Change %'], dtype='object')\n",
      "               Price      Open      High       Low    Vol. Change %\n",
      "Date                                                               \n",
      "01/06/2024  67,760.8  67,533.9  67,861.0  67,449.6  19.01K    0.34%\n",
      "31/05/2024  67,530.1  68,352.3  69,018.2  66,676.8  61.51K   -1.21%\n",
      "30/05/2024  68,354.7  67,631.3  69,504.7  67,138.4  66.84K    1.06%\n",
      "29/05/2024  67,635.8  68,366.2  68,897.6  67,143.2  52.13K   -1.07%\n",
      "28/05/2024  68,366.0  69,428.3  69,560.7  67,299.9  71.39K   -1.53%\n",
      "Train error: 236349078.56935245\n",
      "Test error: 247679899.50543493\n"
     ]
    }
   ],
   "source": [
    "import numpy as np\n",
    "import pandas as pd\n",
    "from sklearn.linear_model import LinearRegression\n",
    "from sklearn.model_selection import train_test_split\n",
    "from sklearn.metrics import mean_squared_error\n",
    "\n",
    "# Exercise 9\n",
    "\n",
    "# Linear Regression\n",
    "\n",
    "data = pd.read_csv('Bitcoin Historical Price Data.csv', index_col=0)\n",
    "print(data.keys())\n",
    "print(data.head())  # Display first few rows to understand the structure\n",
    "\n",
    "# Clean the 'Price' column by removing commas and converting to float\n",
    "data['Price'] = data['Price'].str.replace(',', '').astype(float)\n",
    "\n",
    "# Assuming 'Price' is the column to predict and we will use date indices as the feature for simplicity\n",
    "# Extract the target variable 'Price'\n",
    "Y = data['Price'].values\n",
    "\n",
    "# Extract features; in this case, we can use the range of dates as a simple example\n",
    "# This is a simplified example, usually you would have more features\n",
    "X = np.array(range(len(data))).reshape(-1, 1)\n",
    "\n",
    "# Use Scikit-Learn to do linear regression\n",
    "linearRegressor = LinearRegression()\n",
    "\n",
    "# Split the data into training and testing sets\n",
    "X_train, X_test, y_train, y_test = train_test_split(X, Y, test_size=0.2, random_state=1234)\n",
    "\n",
    "# Train the model\n",
    "linearRegressor.fit(X_train, y_train)\n",
    "\n",
    "# Make predictions\n",
    "y_train_pred = linearRegressor.predict(X_train)\n",
    "y_test_pred = linearRegressor.predict(X_test)\n",
    "\n",
    "# Print errors\n",
    "print('Train error:', mean_squared_error(y_train, y_train_pred))\n",
    "print('Test error:', mean_squared_error(y_test, y_test_pred))\n",
    "\n",
    "\n",
    "import matplotlib.pyplot as plt\n",
    "\n",
    "# Plotting the results\n",
    "plt.figure(figsize=(10, 5))\n",
    "\n",
    "# Plot training data\n",
    "plt.scatter(X_train, y_train, color='blue', label='Actual Train Data')\n",
    "plt.plot(X_train, y_train_pred, color='red', label='Predicted Train Data')\n",
    "\n",
    "# Plot test data\n",
    "plt.scatter(X_test, y_test, color='green', label='Actual Test Data')\n",
    "plt.plot(X_test, y_test_pred, color='orange', label='Predicted Test Data')\n",
    "\n",
    "plt.xlabel('Time')\n",
    "plt.ylabel('Price')\n",
    "plt.legend()\n",
    "plt.show()\n",
    "\n"
   ]
  }
 ],
 "metadata": {
  "kernelspec": {
   "display_name": "Python 3 (ipykernel)",
   "language": "python",
   "name": "python3"
  },
  "language_info": {
   "codemirror_mode": {
    "name": "ipython",
    "version": 3
   },
   "file_extension": ".py",
   "mimetype": "text/x-python",
   "name": "python",
   "nbconvert_exporter": "python",
   "pygments_lexer": "ipython3",
   "version": "3.8.19"
  }
 },
 "nbformat": 4,
 "nbformat_minor": 5
}
